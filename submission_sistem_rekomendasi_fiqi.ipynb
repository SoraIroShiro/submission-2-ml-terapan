{
 "cells": [
  {
   "cell_type": "markdown",
   "id": "4c20aed3",
   "metadata": {},
   "source": [
    "# Sistem Rekomendasi Film Menggunakan Content-Based dan Collaborative Filtering\n",
    "\n",
    "## Project Overview\n",
    "Sistem rekomendasi film bertujuan membantu pengguna menemukan film yang sesuai dengan preferensi mereka secara otomatis. Dengan banyaknya pilihan film, sistem ini dapat meningkatkan pengalaman pengguna dan membantu platform streaming meningkatkan engagement.\n",
    "\n",
    "## Business Understanding\n",
    "Permasalahan: Pengguna sering kesulitan memilih film yang sesuai dengan selera mereka di antara ribuan pilihan.\n",
    "Solusi: Membangun sistem rekomendasi yang dapat memberikan saran film secara personal menggunakan dua pendekatan utama:\n",
    "- **Content-Based Filtering**: Merekomendasikan film berdasarkan kemiripan konten (genre, deskripsi, dsb.).\n",
    "- **Collaborative Filtering**: Merekomendasikan film berdasarkan pola rating pengguna lain yang mirip."
   ]
  },
  {
   "cell_type": "code",
   "execution_count": null,
   "metadata": {},
   "outputs": [],
   "source": [
    "# Data Understanding\n",
    "import pandas as pd\n",
    "\n",
    "# Baca file movies.dat\n",
    "movies = pd.read_csv(\n",
    "    'datasets/movies.dat',\n",
    "    sep='::',\n",
    "    engine='python',\n",
    "    names=['MovieID', 'Title', 'Genres']\n",
    ")\n",
    "\n",
    "# Baca file ratings.dat\n",
    "ratings = pd.read_csv(\n",
    "    'datasets/ratings.dat',\n",
    "    sep='::',\n",
    "    engine='python',\n",
    "    names=['UserID', 'MovieID', 'Rating', 'Timestamp']\n",
    ")\n",
    "\n",
    "# Tampilkan beberapa data awal\n",
    "print(\"Contoh data film:\")\n",
    "display(movies.head())\n",
    "\n",
    "print(\"Contoh data rating:\")\n",
    "display(ratings.head())"
   ]
  }
 ],
 "metadata": {
  "kernelspec": {
   "display_name": ".venv",
   "language": "python",
   "name": "python3"
  },
  "language_info": {
   "name": "python",
   "version": "3.9.12"
  }
 },
 "nbformat": 4,
 "nbformat_minor": 5
}
