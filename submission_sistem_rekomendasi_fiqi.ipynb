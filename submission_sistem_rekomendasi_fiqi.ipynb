{
 "cells": [
  {
   "cell_type": "markdown",
   "id": "4c20aed3",
   "metadata": {},
   "source": [
    "# Sistem Rekomendasi Film Menggunakan Collaborative Filtering\n",
    "\n",
    "## Project Overview\n",
    "Sistem rekomendasi film bertujuan membantu pengguna menemukan film yang sesuai dengan preferensi mereka secara otomatis. Dengan banyaknya pilihan film, sistem ini dapat meningkatkan pengalaman pengguna dan membantu platform streaming meningkatkan engagement.\n",
    "\n",
    "## Business Understanding\n",
    "Permasalahan: Pengguna sering kesulitan memilih film yang sesuai dengan selera mereka di antara ribuan pilihan.\n",
    "Solusi: Membangun sistem rekomendasi yang dapat memberikan saran film secara personal menggunakan pendekatan \n",
    "\n",
    "- **Collaborative Filtering**: Merekomendasikan film berdasarkan pola rating pengguna lain yang mirip."
   ]
  },
  {
   "cell_type": "markdown",
   "id": "1692bd40",
   "metadata": {},
   "source": [
    "## Data Understanding\n",
    "\n",
    "Dataset MovieLens terdiri dari dua file utama:\n",
    "- **movies.dat**: Informasi film (MovieID, Title, Genres)\n",
    "- **ratings.dat**: Data rating yang diberikan user ke film (UserID, MovieID, Rating, Timestamp)"
   ]
  },
  {
   "cell_type": "code",
   "execution_count": 2,
   "id": "27b0c1d8",
   "metadata": {},
   "outputs": [],
   "source": [
    "import tensorflow as tf\n",
    "from tensorflow import keras\n",
    "from tensorflow.keras import layers"
   ]
  },
  {
   "cell_type": "code",
   "execution_count": 3,
   "metadata": {},
   "outputs": [
    {
     "data": {
      "text/html": [
       "<div>\n",
       "<style scoped>\n",
       "    .dataframe tbody tr th:only-of-type {\n",
       "        vertical-align: middle;\n",
       "    }\n",
       "\n",
       "    .dataframe tbody tr th {\n",
       "        vertical-align: top;\n",
       "    }\n",
       "\n",
       "    .dataframe thead th {\n",
       "        text-align: right;\n",
       "    }\n",
       "</style>\n",
       "<table border=\"1\" class=\"dataframe\">\n",
       "  <thead>\n",
       "    <tr style=\"text-align: right;\">\n",
       "      <th></th>\n",
       "      <th>MovieID</th>\n",
       "      <th>Title</th>\n",
       "      <th>Genres</th>\n",
       "    </tr>\n",
       "  </thead>\n",
       "  <tbody>\n",
       "    <tr>\n",
       "      <th>0</th>\n",
       "      <td>1</td>\n",
       "      <td>Toy Story (1995)</td>\n",
       "      <td>Animation|Children's|Comedy</td>\n",
       "    </tr>\n",
       "    <tr>\n",
       "      <th>1</th>\n",
       "      <td>2</td>\n",
       "      <td>Jumanji (1995)</td>\n",
       "      <td>Adventure|Children's|Fantasy</td>\n",
       "    </tr>\n",
       "    <tr>\n",
       "      <th>2</th>\n",
       "      <td>3</td>\n",
       "      <td>Grumpier Old Men (1995)</td>\n",
       "      <td>Comedy|Romance</td>\n",
       "    </tr>\n",
       "    <tr>\n",
       "      <th>3</th>\n",
       "      <td>4</td>\n",
       "      <td>Waiting to Exhale (1995)</td>\n",
       "      <td>Comedy|Drama</td>\n",
       "    </tr>\n",
       "    <tr>\n",
       "      <th>4</th>\n",
       "      <td>5</td>\n",
       "      <td>Father of the Bride Part II (1995)</td>\n",
       "      <td>Comedy</td>\n",
       "    </tr>\n",
       "  </tbody>\n",
       "</table>\n",
       "</div>"
      ],
      "text/plain": [
       "   MovieID                               Title                        Genres\n",
       "0        1                    Toy Story (1995)   Animation|Children's|Comedy\n",
       "1        2                      Jumanji (1995)  Adventure|Children's|Fantasy\n",
       "2        3             Grumpier Old Men (1995)                Comedy|Romance\n",
       "3        4            Waiting to Exhale (1995)                  Comedy|Drama\n",
       "4        5  Father of the Bride Part II (1995)                        Comedy"
      ]
     },
     "metadata": {},
     "output_type": "display_data"
    },
    {
     "data": {
      "text/html": [
       "<div>\n",
       "<style scoped>\n",
       "    .dataframe tbody tr th:only-of-type {\n",
       "        vertical-align: middle;\n",
       "    }\n",
       "\n",
       "    .dataframe tbody tr th {\n",
       "        vertical-align: top;\n",
       "    }\n",
       "\n",
       "    .dataframe thead th {\n",
       "        text-align: right;\n",
       "    }\n",
       "</style>\n",
       "<table border=\"1\" class=\"dataframe\">\n",
       "  <thead>\n",
       "    <tr style=\"text-align: right;\">\n",
       "      <th></th>\n",
       "      <th>UserID</th>\n",
       "      <th>MovieID</th>\n",
       "      <th>Rating</th>\n",
       "      <th>Timestamp</th>\n",
       "    </tr>\n",
       "  </thead>\n",
       "  <tbody>\n",
       "    <tr>\n",
       "      <th>0</th>\n",
       "      <td>1</td>\n",
       "      <td>1193</td>\n",
       "      <td>5</td>\n",
       "      <td>978300760</td>\n",
       "    </tr>\n",
       "    <tr>\n",
       "      <th>1</th>\n",
       "      <td>1</td>\n",
       "      <td>661</td>\n",
       "      <td>3</td>\n",
       "      <td>978302109</td>\n",
       "    </tr>\n",
       "    <tr>\n",
       "      <th>2</th>\n",
       "      <td>1</td>\n",
       "      <td>914</td>\n",
       "      <td>3</td>\n",
       "      <td>978301968</td>\n",
       "    </tr>\n",
       "    <tr>\n",
       "      <th>3</th>\n",
       "      <td>1</td>\n",
       "      <td>3408</td>\n",
       "      <td>4</td>\n",
       "      <td>978300275</td>\n",
       "    </tr>\n",
       "    <tr>\n",
       "      <th>4</th>\n",
       "      <td>1</td>\n",
       "      <td>2355</td>\n",
       "      <td>5</td>\n",
       "      <td>978824291</td>\n",
       "    </tr>\n",
       "  </tbody>\n",
       "</table>\n",
       "</div>"
      ],
      "text/plain": [
       "   UserID  MovieID  Rating  Timestamp\n",
       "0       1     1193       5  978300760\n",
       "1       1      661       3  978302109\n",
       "2       1      914       3  978301968\n",
       "3       1     3408       4  978300275\n",
       "4       1     2355       5  978824291"
      ]
     },
     "metadata": {},
     "output_type": "display_data"
    }
   ],
   "source": [
    "import pandas as pd\n",
    "\n",
    "movies = pd.read_csv(\n",
    "    'datasets/movies.dat',\n",
    "    sep='::',\n",
    "    engine='python',\n",
    "    names=['MovieID', 'Title', 'Genres'],\n",
    "    encoding='latin1'\n",
    ")\n",
    "ratings = pd.read_csv(\n",
    "    'datasets/ratings.dat',\n",
    "    sep='::',\n",
    "    engine='python',\n",
    "    names=['UserID', 'MovieID', 'Rating', 'Timestamp'],\n",
    "    encoding='latin1'\n",
    ")\n",
    "\n",
    "display(movies.head())\n",
    "display(ratings.head())"
   ]
  },
  {
   "cell_type": "markdown",
   "id": "72842f76",
   "metadata": {},
   "source": [
    "## Exploratory Data Analysis (EDA)\n",
    "\n",
    "Analisis awal untuk mengetahui jumlah user, film, rating, dan distribusi rating."
   ]
  },
  {
   "cell_type": "code",
   "execution_count": 4,
   "id": "993a5fea",
   "metadata": {},
   "outputs": [
    {
     "name": "stdout",
     "output_type": "stream",
     "text": [
      "Jumlah film unik: 3883\n",
      "Jumlah user unik: 6040\n",
      "Jumlah rating: 1000209\n",
      "\n",
      "Distribusi rating:\n",
      "Rating\n",
      "1     56174\n",
      "2    107557\n",
      "3    261197\n",
      "4    348971\n",
      "5    226310\n",
      "Name: count, dtype: int64\n"
     ]
    }
   ],
   "source": [
    "print(\"Jumlah film unik:\", movies['MovieID'].nunique())\n",
    "print(\"Jumlah user unik:\", ratings['UserID'].nunique())\n",
    "print(\"Jumlah rating:\", ratings.shape[0])\n",
    "print(\"\\nDistribusi rating:\")\n",
    "print(ratings['Rating'].value_counts().sort_index())"
   ]
  },
  {
   "cell_type": "markdown",
   "id": "f86cdf4e",
   "metadata": {},
   "source": [
    "## Data Preparation\n",
    "\n",
    "Tahap ini bertujuan untuk membersihkan dan mempersiapkan data sebelum digunakan dalam pemodelan. Langkah-langkah yang dilakukan antara lain:\n",
    "- Mengecek dan menangani missing value atau duplikasi data.\n",
    "- Melakukan transformasi data jika diperlukan (misal: ekstraksi fitur genre, encoding, dsb.).\n",
    "- Menyiapkan data agar siap digunakan untuk  collaborative filtering."
   ]
  },
  {
   "cell_type": "code",
   "execution_count": 5,
   "id": "3ed53318",
   "metadata": {},
   "outputs": [
    {
     "name": "stdout",
     "output_type": "stream",
     "text": [
      "Missing value pada movies:\n",
      " MovieID    0\n",
      "Title      0\n",
      "Genres     0\n",
      "dtype: int64\n",
      "Missing value pada ratings:\n",
      " UserID       0\n",
      "MovieID      0\n",
      "Rating       0\n",
      "Timestamp    0\n",
      "dtype: int64\n",
      "Duplikasi pada movies: 0\n",
      "Duplikasi pada ratings: 0\n"
     ]
    }
   ],
   "source": [
    "print(\"Missing value pada movies:\\n\", movies.isnull().sum())\n",
    "print(\"Missing value pada ratings:\\n\", ratings.isnull().sum())\n",
    "print(\"Duplikasi pada movies:\", movies.duplicated().sum())\n",
    "print(\"Duplikasi pada ratings:\", ratings.duplicated().sum())\n",
    "\n",
    "movies['MovieID'] = movies['MovieID'].astype(int)\n",
    "ratings['UserID'] = ratings['UserID'].astype(int)\n",
    "ratings['MovieID'] = ratings['MovieID'].astype(int)\n",
    "ratings['Rating'] = ratings['Rating'].astype(int)"
   ]
  },
  {
   "cell_type": "markdown",
   "id": "78a1db5c",
   "metadata": {},
   "source": [
    "## Membagi Data untuk Training dan Validasi\n",
    "\n",
    "Data rating dibagi menjadi 80% data training dan 20% data validasi."
   ]
  },
  {
   "cell_type": "code",
   "execution_count": 6,
   "id": "f29d3dfd",
   "metadata": {},
   "outputs": [
    {
     "name": "stdout",
     "output_type": "stream",
     "text": [
      "Jumlah data train: 800167\n",
      "Jumlah data validasi: 200042\n"
     ]
    }
   ],
   "source": [
    "from sklearn.model_selection import train_test_split\n",
    "\n",
    "ratings_train, ratings_val = train_test_split(\n",
    "    ratings, test_size=0.2, random_state=42, shuffle=True\n",
    ")\n",
    "\n",
    "print(\"Jumlah data train:\", ratings_train.shape[0])\n",
    "print(\"Jumlah data validasi:\", ratings_val.shape[0])"
   ]
  },
  {
   "cell_type": "markdown",
   "id": "5fcf59d4",
   "metadata": {},
   "source": [
    "## Membuat User-Item Matrix\n",
    "\n",
    "Matriks user-item dibuat dari data training untuk menghitung kemiripan antar user."
   ]
  },
  {
   "cell_type": "code",
   "execution_count": 7,
   "id": "1c1386d8",
   "metadata": {},
   "outputs": [],
   "source": [
    "user_item_matrix = ratings_train.pivot_table(index='UserID', columns='MovieID', values='Rating')\n",
    "user_item_matrix_filled = user_item_matrix.fillna(0)"
   ]
  },
  {
   "cell_type": "markdown",
   "id": "3ab5acba",
   "metadata": {},
   "source": [
    "## Training Model Collaborative Filtering (Neural Network)\n",
    "\n",
    "Pada tahap ini, model rekomendasi dibangun menggunakan embedding untuk user dan movie. Skor kecocokan dihitung dengan dot product embedding, ditambah bias, dan diaktivasi dengan sigmoid agar output berada di rentang [0, 1]. Model di-train menggunakan data training dan divalidasi pada data validasi."
   ]
  },
  {
   "cell_type": "code",
   "execution_count": 8,
   "id": "fb99944d",
   "metadata": {},
   "outputs": [
    {
     "name": "stdout",
     "output_type": "stream",
     "text": [
      "Epoch 1/10\n",
      "\u001b[1m12503/12503\u001b[0m \u001b[32m━━━━━━━━━━━━━━━━━━━━\u001b[0m\u001b[37m\u001b[0m \u001b[1m347s\u001b[0m 27ms/step - loss: 0.6313 - root_mean_squared_error: 0.2614 - val_loss: 0.5901 - val_root_mean_squared_error: 0.2222\n",
      "Epoch 2/10\n",
      "\u001b[1m12503/12503\u001b[0m \u001b[32m━━━━━━━━━━━━━━━━━━━━\u001b[0m\u001b[37m\u001b[0m \u001b[1m282s\u001b[0m 23ms/step - loss: 0.5839 - root_mean_squared_error: 0.2149 - val_loss: 0.5847 - val_root_mean_squared_error: 0.2155\n",
      "Epoch 3/10\n",
      "\u001b[1m12503/12503\u001b[0m \u001b[32m━━━━━━━━━━━━━━━━━━━━\u001b[0m\u001b[37m\u001b[0m \u001b[1m225s\u001b[0m 18ms/step - loss: 0.5740 - root_mean_squared_error: 0.2030 - val_loss: 0.5841 - val_root_mean_squared_error: 0.2128\n",
      "Epoch 4/10\n",
      "\u001b[1m12503/12503\u001b[0m \u001b[32m━━━━━━━━━━━━━━━━━━━━\u001b[0m\u001b[37m\u001b[0m \u001b[1m167s\u001b[0m 13ms/step - loss: 0.5664 - root_mean_squared_error: 0.1927 - val_loss: 0.5864 - val_root_mean_squared_error: 0.2125\n",
      "Epoch 5/10\n",
      "\u001b[1m12503/12503\u001b[0m \u001b[32m━━━━━━━━━━━━━━━━━━━━\u001b[0m\u001b[37m\u001b[0m \u001b[1m141s\u001b[0m 11ms/step - loss: 0.5601 - root_mean_squared_error: 0.1834 - val_loss: 0.5902 - val_root_mean_squared_error: 0.2139\n",
      "Epoch 6/10\n",
      "\u001b[1m12503/12503\u001b[0m \u001b[32m━━━━━━━━━━━━━━━━━━━━\u001b[0m\u001b[37m\u001b[0m \u001b[1m135s\u001b[0m 11ms/step - loss: 0.5561 - root_mean_squared_error: 0.1763 - val_loss: 0.5943 - val_root_mean_squared_error: 0.2158\n",
      "Epoch 7/10\n",
      "\u001b[1m12503/12503\u001b[0m \u001b[32m━━━━━━━━━━━━━━━━━━━━\u001b[0m\u001b[37m\u001b[0m \u001b[1m141s\u001b[0m 11ms/step - loss: 0.5530 - root_mean_squared_error: 0.1714 - val_loss: 0.5975 - val_root_mean_squared_error: 0.2173\n",
      "Epoch 8/10\n",
      "\u001b[1m12503/12503\u001b[0m \u001b[32m━━━━━━━━━━━━━━━━━━━━\u001b[0m\u001b[37m\u001b[0m \u001b[1m133s\u001b[0m 11ms/step - loss: 0.5514 - root_mean_squared_error: 0.1679 - val_loss: 0.6003 - val_root_mean_squared_error: 0.2188\n",
      "Epoch 9/10\n",
      "\u001b[1m12503/12503\u001b[0m \u001b[32m━━━━━━━━━━━━━━━━━━━━\u001b[0m\u001b[37m\u001b[0m \u001b[1m138s\u001b[0m 11ms/step - loss: 0.5500 - root_mean_squared_error: 0.1659 - val_loss: 0.6024 - val_root_mean_squared_error: 0.2199\n",
      "Epoch 10/10\n",
      "\u001b[1m12503/12503\u001b[0m \u001b[32m━━━━━━━━━━━━━━━━━━━━\u001b[0m\u001b[37m\u001b[0m \u001b[1m136s\u001b[0m 11ms/step - loss: 0.5492 - root_mean_squared_error: 0.1642 - val_loss: 0.6041 - val_root_mean_squared_error: 0.2209\n"
     ]
    }
   ],
   "source": [
    "\n",
    "# Siapkan data untuk training\n",
    "min_rating = ratings['Rating'].min()\n",
    "max_rating = ratings['Rating'].max()\n",
    "\n",
    "# x_train dan x_val: pasangan (UserID, MovieID)\n",
    "x_train = ratings_train[['UserID', 'MovieID']].values\n",
    "x_val = ratings_val[['UserID', 'MovieID']].values\n",
    "\n",
    "# y_train dan y_val: rating dinormalisasi ke [0, 1]\n",
    "y_train = ratings_train['Rating'].apply(lambda x: (x - min_rating) / (max_rating - min_rating)).values\n",
    "y_val = ratings_val['Rating'].apply(lambda x: (x - min_rating) / (max_rating - min_rating)).values\n",
    "\n",
    "num_users = ratings['UserID'].max() + 1  # pastikan ID mulai dari 0\n",
    "num_movies = ratings['MovieID'].max() + 1\n",
    "\n",
    "class RecommenderNet(tf.keras.Model):\n",
    "    def __init__(self, num_users, num_movies, embedding_size, **kwargs):\n",
    "        super(RecommenderNet, self).__init__(**kwargs)\n",
    "        self.user_embedding = layers.Embedding(\n",
    "            num_users,\n",
    "            embedding_size,\n",
    "            embeddings_initializer='he_normal',\n",
    "            embeddings_regularizer=keras.regularizers.l2(1e-6)\n",
    "        )\n",
    "        self.user_bias = layers.Embedding(num_users, 1)\n",
    "        self.movie_embedding = layers.Embedding(\n",
    "            num_movies,\n",
    "            embedding_size,\n",
    "            embeddings_initializer='he_normal',\n",
    "            embeddings_regularizer=keras.regularizers.l2(1e-6)\n",
    "        )\n",
    "        self.movie_bias = layers.Embedding(num_movies, 1)\n",
    "\n",
    "    def call(self, inputs):\n",
    "        user_vector = self.user_embedding(inputs[:, 0])\n",
    "        user_bias = self.user_bias(inputs[:, 0])\n",
    "        movie_vector = self.movie_embedding(inputs[:, 1])\n",
    "        movie_bias = self.movie_bias(inputs[:, 1])\n",
    "        dot_user_movie = tf.reduce_sum(user_vector * movie_vector, axis=1, keepdims=True)\n",
    "        x = dot_user_movie + user_bias + movie_bias\n",
    "        return tf.nn.sigmoid(x)\n",
    "\n",
    "embedding_size = 50\n",
    "model = RecommenderNet(num_users, num_movies, embedding_size)\n",
    "\n",
    "model.compile(\n",
    "    loss=tf.keras.losses.BinaryCrossentropy(),\n",
    "    optimizer=keras.optimizers.Adam(learning_rate=0.001),\n",
    "    metrics=[tf.keras.metrics.RootMeanSquaredError()]\n",
    ")\n",
    "\n",
    "history = model.fit(\n",
    "    x=x_train,\n",
    "    y=y_train,\n",
    "    batch_size=64,\n",
    "    epochs=10,\n",
    "    validation_data=(x_val, y_val)\n",
    ")"
   ]
  },
  {
   "cell_type": "markdown",
   "id": "79e2ba45",
   "metadata": {},
   "source": [
    "##  Visualisasi hasil training\n",
    "\n",
    "Grafik berikut menunjukkan perkembangan nilai Root Mean Squared Error (RMSE) pada data training dan validasi selama proses training model. Visualisasi ini membantu untuk memantau performa model, serta mendeteksi adanya overfitting atau underfitting pada proses pelatihan."
   ]
  },
  {
   "cell_type": "code",
   "execution_count": 11,
   "id": "688265df",
   "metadata": {},
   "outputs": [
    {
     "data": {
      "image/png": "[encoded data removed]",
      "text/plain": [
       "<Figure size 640x480 with 1 Axes>"
      ]
     },
     "metadata": {},
     "output_type": "display_data"
    }
   ],
   "source": [
    "import matplotlib.pyplot as plt\n",
    "\n",
    "# visualisasi loss\n",
    "plt.plot(history.history['root_mean_squared_error'])\n",
    "plt.plot(history.history['val_root_mean_squared_error'])\n",
    "plt.title('model_metrics')\n",
    "plt.ylabel('root_mean_squared_error')\n",
    "plt.xlabel('epoch')\n",
    "plt.legend(['train', 'test'], loc='upper left')\n",
    "plt.show()"
   ]
  },
  {
   "cell_type": "markdown",
   "id": "714efb68",
   "metadata": {},
   "source": [
    "## Sistem Rekomendasi Film Berdasarkan Model\n",
    "\n",
    "Pada tahap ini, model yang telah dilatih digunakan untuk memberikan rekomendasi film kepada user. Sistem akan memprediksi skor kecocokan antara user dan seluruh film yang belum pernah dirating, lalu menampilkan film dengan skor prediksi tertinggi."
   ]
  },
  {
   "cell_type": "code",
   "execution_count": 14,
   "id": "8afbeb66",
   "metadata": {},
   "outputs": [
    {
     "name": "stdout",
     "output_type": "stream",
     "text": [
      "Rekomendasi untuk UserID: 4\n",
      "==============================\n",
      "Film dengan rating tertinggi dari user:\n",
      "------------------------------\n",
      "Hustler, The (1961) : 5\n",
      "Raiders of the Lost Ark (1981) : 5\n",
      "Rocky (1976) : 5\n",
      "Saving Private Ryan (1998) : 5\n",
      "Star Wars: Episode IV - A New Hope (1977) : 5\n",
      "------------------------------\n",
      "Top 10 rekomendasi film:\n",
      "------------------------------\n",
      "Shawshank Redemption, The (1994) : Drama\n",
      "Schindler's List (1993) : Drama|War\n",
      "Godfather, The (1972) : Action|Crime|Drama\n",
      "Casablanca (1942) : Drama|Romance|War\n",
      "Lawrence of Arabia (1962) : Adventure|War\n",
      "Godfather: Part II, The (1974) : Action|Crime|Drama\n",
      "Great Escape, The (1963) : Adventure|War\n",
      "Sixth Sense, The (1999) : Thriller\n",
      "Sanjuro (1962) : Action|Adventure\n",
      "Double Indemnity (1944) : Crime|Film-Noir\n"
     ]
    }
   ],
   "source": [
    "import numpy as np\n",
    "\n",
    "def recommend_movies_for_user(user_id, model, movies, ratings, top_n=10):\n",
    "    # Cari semua MovieID yang sudah dirating user\n",
    "    movies_rated = ratings[ratings['UserID'] == user_id]['MovieID'].tolist()\n",
    "    # Cari MovieID yang belum pernah dirating user\n",
    "    movies_not_rated = movies[~movies['MovieID'].isin(movies_rated)]\n",
    "    \n",
    "    # Siapkan data prediksi: pasangan (user_id, movie_id)\n",
    "    user_movie_array = np.array([[user_id, movie_id] for movie_id in movies_not_rated['MovieID']])\n",
    "    \n",
    "    # Prediksi skor dengan model\n",
    "    ratings_pred = model.predict(user_movie_array, verbose=0).flatten()\n",
    "    \n",
    "    # Ambil indeks top_n skor tertinggi\n",
    "    top_indices = ratings_pred.argsort()[-top_n:][::-1]\n",
    "    recommended_movie_ids = movies_not_rated.iloc[top_indices]['MovieID'].values\n",
    "    \n",
    "    print(f\"Rekomendasi untuk UserID: {user_id}\")\n",
    "    print(\"=\"*30)\n",
    "    print(\"Film dengan rating tertinggi dari user:\")\n",
    "    print(\"-\"*30)\n",
    "    # Tampilkan 5 film dengan rating tertinggi yang pernah dirating user\n",
    "    top_user_movies = (\n",
    "        ratings[ratings['UserID'] == user_id]\n",
    "        .sort_values(by='Rating', ascending=False)\n",
    "        .head(5)\n",
    "        .merge(movies, on='MovieID')\n",
    "    )\n",
    "    for row in top_user_movies.itertuples():\n",
    "        print(f\"{row.Title} : {row.Rating}\")\n",
    "    \n",
    "    print(\"-\"*30)\n",
    "    print(f\"Top {top_n} rekomendasi film:\")\n",
    "    print(\"-\"*30)\n",
    "    recommended_movies = movies[movies['MovieID'].isin(recommended_movie_ids)]\n",
    "    for row in recommended_movies.itertuples():\n",
    "        print(f\"{row.Title} : {row.Genres}\")\n",
    "\n",
    "# Contoh penggunaan\n",
    "recommend_movies_for_user(user_id=4, model=model, movies=movies, ratings=ratings, top_n=10)"
   ]
  }
 ],
 "metadata": {
  "kernelspec": {
   "display_name": ".venv",
   "language": "python",
   "name": "python3"
  },
  "language_info": {
   "codemirror_mode": {
    "name": "ipython",
    "version": 3
   },
   "file_extension": ".py",
   "mimetype": "text/x-python",
   "name": "python",
   "nbconvert_exporter": "python",
   "pygments_lexer": "ipython3",
   "version": "3.9.12"
  }
 },
 "nbformat": 4,
 "nbformat_minor": 5
}
