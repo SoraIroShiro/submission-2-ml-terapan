{
 "cells": [
  {
   "cell_type": "markdown",
   "id": "4c20aed3",
   "metadata": {},
   "source": [
    "# Sistem Rekomendasi Film Menggunakan Content-Based dan Collaborative Filtering\n",
    "\n",
    "## Project Overview\n",
    "Sistem rekomendasi film bertujuan membantu pengguna menemukan film yang sesuai dengan preferensi mereka secara otomatis. Dengan banyaknya pilihan film, sistem ini dapat meningkatkan pengalaman pengguna dan membantu platform streaming meningkatkan engagement.\n",
    "\n",
    "## Business Understanding\n",
    "Permasalahan: Pengguna sering kesulitan memilih film yang sesuai dengan selera mereka di antara ribuan pilihan.\n",
    "Solusi: Membangun sistem rekomendasi yang dapat memberikan saran film secara personal menggunakan dua pendekatan utama:\n",
    "- **Content-Based Filtering**: Merekomendasikan film berdasarkan kemiripan konten (genre, deskripsi, dsb.).\n",
    "- **Collaborative Filtering**: Merekomendasikan film berdasarkan pola rating pengguna lain yang mirip."
   ]
  }
 ],
 "metadata": {
  "language_info": {
   "name": "python"
  }
 },
 "nbformat": 4,
 "nbformat_minor": 5
}
