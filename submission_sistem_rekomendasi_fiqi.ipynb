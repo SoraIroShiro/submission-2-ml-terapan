{
 "cells": [
  {
   "cell_type": "markdown",
   "id": "4c20aed3",
   "metadata": {},
   "source": [
    "# Sistem Rekomendasi Film Menggunakan Collaborative Filtering\n",
    "\n",
    "## Project Overview\n",
    "Sistem rekomendasi film bertujuan membantu pengguna menemukan film yang sesuai dengan preferensi mereka secara otomatis. Dengan banyaknya pilihan film, sistem ini dapat meningkatkan pengalaman pengguna dan membantu platform streaming meningkatkan engagement.\n",
    "\n",
    "## Business Understanding\n",
    "Permasalahan: Pengguna sering kesulitan memilih film yang sesuai dengan selera mereka di antara ribuan pilihan.\n",
    "Solusi: Membangun sistem rekomendasi yang dapat memberikan saran film secara personal menggunakan pendekatan \n",
    "\n",
    "- **Collaborative Filtering**: Merekomendasikan film berdasarkan pola rating pengguna lain yang mirip."
   ]
  },
  {
   "cell_type": "markdown",
   "id": "1692bd40",
   "metadata": {},
   "source": [
    "## Data Understanding\n",
    "\n",
    "Dataset MovieLens terdiri dari dua file utama:\n",
    "- **movies.dat**: Informasi film (MovieID, Title, Genres)\n",
    "- **ratings.dat**: Data rating yang diberikan user ke film (UserID, MovieID, Rating, Timestamp)"
   ]
  },
  {
   "cell_type": "code",
   "execution_count": 1,
   "id": "27b0c1d8",
   "metadata": {},
   "outputs": [],
   "source": [
    "# install semua library yang dibutuhkan\n",
    "\n",
    "\n",
    "import pandas as pd\n",
    "import tensorflow as tf\n",
    "from tensorflow import keras\n",
    "from tensorflow.keras import layers\n",
    "from sklearn.model_selection import train_test_split\n",
    "import matplotlib.pyplot as plt\n",
    "import numpy as np\n",
    "\n",
    "from sklearn.feature_extraction.text import TfidfVectorizer\n",
    "from sklearn.metrics.pairwise import cosine_similarity"
   ]
  },
  {
   "cell_type": "code",
   "execution_count": 2,
   "metadata": {},
   "outputs": [
    {
     "data": {
      "text/html": [
       "<div>\n",
       "<style scoped>\n",
       "    .dataframe tbody tr th:only-of-type {\n",
       "        vertical-align: middle;\n",
       "    }\n",
       "\n",
       "    .dataframe tbody tr th {\n",
       "        vertical-align: top;\n",
       "    }\n",
       "\n",
       "    .dataframe thead th {\n",
       "        text-align: right;\n",
       "    }\n",
       "</style>\n",
       "<table border=\"1\" class=\"dataframe\">\n",
       "  <thead>\n",
       "    <tr style=\"text-align: right;\">\n",
       "      <th></th>\n",
       "      <th>MovieID</th>\n",
       "      <th>Title</th>\n",
       "      <th>Genres</th>\n",
       "    </tr>\n",
       "  </thead>\n",
       "  <tbody>\n",
       "    <tr>\n",
       "      <th>0</th>\n",
       "      <td>1</td>\n",
       "      <td>Toy Story (1995)</td>\n",
       "      <td>Animation|Children's|Comedy</td>\n",
       "    </tr>\n",
       "    <tr>\n",
       "      <th>1</th>\n",
       "      <td>2</td>\n",
       "      <td>Jumanji (1995)</td>\n",
       "      <td>Adventure|Children's|Fantasy</td>\n",
       "    </tr>\n",
       "    <tr>\n",
       "      <th>2</th>\n",
       "      <td>3</td>\n",
       "      <td>Grumpier Old Men (1995)</td>\n",
       "      <td>Comedy|Romance</td>\n",
       "    </tr>\n",
       "    <tr>\n",
       "      <th>3</th>\n",
       "      <td>4</td>\n",
       "      <td>Waiting to Exhale (1995)</td>\n",
       "      <td>Comedy|Drama</td>\n",
       "    </tr>\n",
       "    <tr>\n",
       "      <th>4</th>\n",
       "      <td>5</td>\n",
       "      <td>Father of the Bride Part II (1995)</td>\n",
       "      <td>Comedy</td>\n",
       "    </tr>\n",
       "  </tbody>\n",
       "</table>\n",
       "</div>"
      ],
      "text/plain": [
       "   MovieID                               Title                        Genres\n",
       "0        1                    Toy Story (1995)   Animation|Children's|Comedy\n",
       "1        2                      Jumanji (1995)  Adventure|Children's|Fantasy\n",
       "2        3             Grumpier Old Men (1995)                Comedy|Romance\n",
       "3        4            Waiting to Exhale (1995)                  Comedy|Drama\n",
       "4        5  Father of the Bride Part II (1995)                        Comedy"
      ]
     },
     "metadata": {},
     "output_type": "display_data"
    },
    {
     "data": {
      "text/html": [
       "<div>\n",
       "<style scoped>\n",
       "    .dataframe tbody tr th:only-of-type {\n",
       "        vertical-align: middle;\n",
       "    }\n",
       "\n",
       "    .dataframe tbody tr th {\n",
       "        vertical-align: top;\n",
       "    }\n",
       "\n",
       "    .dataframe thead th {\n",
       "        text-align: right;\n",
       "    }\n",
       "</style>\n",
       "<table border=\"1\" class=\"dataframe\">\n",
       "  <thead>\n",
       "    <tr style=\"text-align: right;\">\n",
       "      <th></th>\n",
       "      <th>UserID</th>\n",
       "      <th>MovieID</th>\n",
       "      <th>Rating</th>\n",
       "      <th>Timestamp</th>\n",
       "    </tr>\n",
       "  </thead>\n",
       "  <tbody>\n",
       "    <tr>\n",
       "      <th>0</th>\n",
       "      <td>1</td>\n",
       "      <td>1193</td>\n",
       "      <td>5</td>\n",
       "      <td>978300760</td>\n",
       "    </tr>\n",
       "    <tr>\n",
       "      <th>1</th>\n",
       "      <td>1</td>\n",
       "      <td>661</td>\n",
       "      <td>3</td>\n",
       "      <td>978302109</td>\n",
       "    </tr>\n",
       "    <tr>\n",
       "      <th>2</th>\n",
       "      <td>1</td>\n",
       "      <td>914</td>\n",
       "      <td>3</td>\n",
       "      <td>978301968</td>\n",
       "    </tr>\n",
       "    <tr>\n",
       "      <th>3</th>\n",
       "      <td>1</td>\n",
       "      <td>3408</td>\n",
       "      <td>4</td>\n",
       "      <td>978300275</td>\n",
       "    </tr>\n",
       "    <tr>\n",
       "      <th>4</th>\n",
       "      <td>1</td>\n",
       "      <td>2355</td>\n",
       "      <td>5</td>\n",
       "      <td>978824291</td>\n",
       "    </tr>\n",
       "  </tbody>\n",
       "</table>\n",
       "</div>"
      ],
      "text/plain": [
       "   UserID  MovieID  Rating  Timestamp\n",
       "0       1     1193       5  978300760\n",
       "1       1      661       3  978302109\n",
       "2       1      914       3  978301968\n",
       "3       1     3408       4  978300275\n",
       "4       1     2355       5  978824291"
      ]
     },
     "metadata": {},
     "output_type": "display_data"
    }
   ],
   "source": [
    "# data understanding\n",
    "\n",
    "movies = pd.read_csv(\n",
    "    'datasets/movies.dat',\n",
    "    sep='::',\n",
    "    engine='python',\n",
    "    names=['MovieID', 'Title', 'Genres'],\n",
    "    encoding='latin1'\n",
    ")\n",
    "ratings = pd.read_csv(\n",
    "    'datasets/ratings.dat',\n",
    "    sep='::',\n",
    "    engine='python',\n",
    "    names=['UserID', 'MovieID', 'Rating', 'Timestamp'],\n",
    "    encoding='latin1'\n",
    ")\n",
    "\n",
    "display(movies.head())\n",
    "display(ratings.head())"
   ]
  },
  {
   "cell_type": "markdown",
   "id": "72842f76",
   "metadata": {},
   "source": [
    "## Exploratory Data Analysis (EDA)\n",
    "\n",
    "Analisis awal untuk mengetahui jumlah user, film, rating, dan distribusi rating."
   ]
  },
  {
   "cell_type": "code",
   "execution_count": 3,
   "id": "993a5fea",
   "metadata": {},
   "outputs": [
    {
     "name": "stdout",
     "output_type": "stream",
     "text": [
      "Jumlah film unik: 3883\n",
      "Jumlah user unik: 6040\n",
      "Jumlah rating: 1000209\n",
      "\n",
      "Distribusi rating:\n",
      "Rating\n",
      "1     56174\n",
      "2    107557\n",
      "3    261197\n",
      "4    348971\n",
      "5    226310\n",
      "Name: count, dtype: int64\n"
     ]
    }
   ],
   "source": [
    "print(\"Jumlah film unik:\", movies['MovieID'].nunique())\n",
    "print(\"Jumlah user unik:\", ratings['UserID'].nunique())\n",
    "print(\"Jumlah rating:\", ratings.shape[0])\n",
    "print(\"\\nDistribusi rating:\")\n",
    "print(ratings['Rating'].value_counts().sort_index())"
   ]
  },
  {
   "cell_type": "markdown",
   "id": "f86cdf4e",
   "metadata": {},
   "source": [
    "## Data Preparation\n",
    "\n",
    "Tahap ini bertujuan untuk membersihkan dan mempersiapkan data sebelum digunakan dalam pemodelan. Langkah-langkah yang dilakukan antara lain:\n",
    "- Mengecek dan menangani missing value atau duplikasi data.\n",
    "- Melakukan transformasi data jika diperlukan (misal: ekstraksi fitur genre, encoding, dsb.).\n",
    "- Menyiapkan data agar siap digunakan untuk  collaborative filtering."
   ]
  },
  {
   "cell_type": "code",
   "execution_count": 4,
   "id": "3ed53318",
   "metadata": {},
   "outputs": [
    {
     "name": "stdout",
     "output_type": "stream",
     "text": [
      "Missing value pada movies:\n",
      " MovieID    0\n",
      "Title      0\n",
      "Genres     0\n",
      "dtype: int64\n",
      "Missing value pada ratings:\n",
      " UserID       0\n",
      "MovieID      0\n",
      "Rating       0\n",
      "Timestamp    0\n",
      "dtype: int64\n",
      "Duplikasi pada movies: 0\n",
      "Duplikasi pada ratings: 0\n"
     ]
    }
   ],
   "source": [
    "print(\"Missing value pada movies:\\n\", movies.isnull().sum())\n",
    "print(\"Missing value pada ratings:\\n\", ratings.isnull().sum())\n",
    "print(\"Duplikasi pada movies:\", movies.duplicated().sum())\n",
    "print(\"Duplikasi pada ratings:\", ratings.duplicated().sum())\n",
    "\n",
    "movies['MovieID'] = movies['MovieID'].astype(int)\n",
    "ratings['UserID'] = ratings['UserID'].astype(int)\n",
    "ratings['MovieID'] = ratings['MovieID'].astype(int)\n",
    "ratings['Rating'] = ratings['Rating'].astype(int)"
   ]
  },
  {
   "cell_type": "markdown",
   "id": "eb99d348",
   "metadata": {},
   "source": [
    "### Content-Based Filtering dengan TF-IDF\n",
    "\n",
    "Pada pendekatan ini, sistem merekomendasikan film berdasarkan kemiripan konten, yaitu genre film. Genre diubah menjadi representasi numerik menggunakan TF-IDF (Term Frequency-Inverse Document Frequency), lalu dihitung kemiripan antar film menggunakan cosine similarity. Rekomendasi diberikan berdasarkan film yang paling mirip dengan film yang dipilih pengguna."
   ]
  },
  {
   "cell_type": "code",
   "execution_count": 5,
   "id": "4b68b271",
   "metadata": {},
   "outputs": [
    {
     "name": "stdout",
     "output_type": "stream",
     "text": [
      "Rekomendasi film mirip dengan 'titanic (1997)':\n"
     ]
    },
    {
     "data": {
      "text/html": [
       "<div>\n",
       "<style scoped>\n",
       "    .dataframe tbody tr th:only-of-type {\n",
       "        vertical-align: middle;\n",
       "    }\n",
       "\n",
       "    .dataframe tbody tr th {\n",
       "        vertical-align: top;\n",
       "    }\n",
       "\n",
       "    .dataframe thead th {\n",
       "        text-align: right;\n",
       "    }\n",
       "</style>\n",
       "<table border=\"1\" class=\"dataframe\">\n",
       "  <thead>\n",
       "    <tr style=\"text-align: right;\">\n",
       "      <th></th>\n",
       "      <th>Title</th>\n",
       "      <th>Genres</th>\n",
       "    </tr>\n",
       "  </thead>\n",
       "  <tbody>\n",
       "    <tr>\n",
       "      <th>24</th>\n",
       "      <td>Leaving Las Vegas (1995)</td>\n",
       "      <td>Drama|Romance</td>\n",
       "    </tr>\n",
       "    <tr>\n",
       "      <th>34</th>\n",
       "      <td>Carrington (1995)</td>\n",
       "      <td>Drama|Romance</td>\n",
       "    </tr>\n",
       "    <tr>\n",
       "      <th>45</th>\n",
       "      <td>How to Make an American Quilt (1995)</td>\n",
       "      <td>Drama|Romance</td>\n",
       "    </tr>\n",
       "    <tr>\n",
       "      <th>48</th>\n",
       "      <td>When Night Is Falling (1995)</td>\n",
       "      <td>Drama|Romance</td>\n",
       "    </tr>\n",
       "    <tr>\n",
       "      <th>57</th>\n",
       "      <td>Postino, Il (The Postman) (1994)</td>\n",
       "      <td>Drama|Romance</td>\n",
       "    </tr>\n",
       "  </tbody>\n",
       "</table>\n",
       "</div>"
      ],
      "text/plain": [
       "                                   Title         Genres\n",
       "24              Leaving Las Vegas (1995)  Drama|Romance\n",
       "34                     Carrington (1995)  Drama|Romance\n",
       "45  How to Make an American Quilt (1995)  Drama|Romance\n",
       "48          When Night Is Falling (1995)  Drama|Romance\n",
       "57      Postino, Il (The Postman) (1994)  Drama|Romance"
      ]
     },
     "metadata": {},
     "output_type": "display_data"
    }
   ],
   "source": [
    "\n",
    "\n",
    "# Membuat fitur genre sebagai string (tanpa tanda '|')\n",
    "movies['Genres_str'] = movies['Genres'].apply(lambda x: x.replace('|', ' '))\n",
    "\n",
    "# Inisialisasi dan fit TF-IDF Vectorizer pada genre\n",
    "tfidf = TfidfVectorizer()\n",
    "tfidf_matrix = tfidf.fit_transform(movies['Genres_str'])\n",
    "\n",
    "# Menghitung kemiripan antar film berdasarkan genre (TF-IDF)\n",
    "cosine_sim_tfidf = cosine_similarity(tfidf_matrix)\n",
    "\n",
    "# Fungsi rekomendasi film berdasarkan judul (TF-IDF)\n",
    "def recommend_content_based_tfidf(title, top_n=5):\n",
    "    idx = movies[movies['Title'].str.lower() == title.lower()].index\n",
    "    if len(idx) == 0:\n",
    "        print(\"Film tidak ditemukan.\")\n",
    "        return\n",
    "    idx = idx[0]\n",
    "    sim_scores = list(enumerate(cosine_sim_tfidf[idx]))\n",
    "    sim_scores = sorted(sim_scores, key=lambda x: x[1], reverse=True)\n",
    "    sim_scores = sim_scores[1:top_n+1]\n",
    "    film_idx = [i[0] for i in sim_scores]\n",
    "    return movies.iloc[film_idx][['Title', 'Genres']]\n",
    "\n",
    "# Contoh rekomendasi\n",
    "judul_film = 'titanic (1997)'\n",
    "print(f\"Rekomendasi film mirip dengan '{judul_film}':\")\n",
    "display(recommend_content_based_tfidf(judul_film))"
   ]
  },
  {
   "cell_type": "markdown",
   "id": "78a1db5c",
   "metadata": {},
   "source": [
    "## Membagi Data untuk Training dan Validasi untuk Collaborative Filtering\n",
    "\n",
    "Data rating dibagi menjadi 80% data training dan 20% data validasi."
   ]
  },
  {
   "cell_type": "code",
   "execution_count": 7,
   "id": "f29d3dfd",
   "metadata": {},
   "outputs": [
    {
     "name": "stdout",
     "output_type": "stream",
     "text": [
      "Jumlah data train: 800167\n",
      "Jumlah data validasi: 200042\n"
     ]
    }
   ],
   "source": [
    "# data splitting\n",
    "ratings_train, ratings_val = train_test_split(\n",
    "    ratings, test_size=0.2, random_state=42, shuffle=True\n",
    ")\n",
    "\n",
    "print(\"Jumlah data train:\", ratings_train.shape[0])\n",
    "print(\"Jumlah data validasi:\", ratings_val.shape[0])"
   ]
  },
  {
   "cell_type": "markdown",
   "id": "1c1386d8",
   "metadata": {},
   "source": [
    "## Training Model Collaborative Filtering (Neural Network)\n",
    "\n",
    "Pada tahap ini, model rekomendasi dibangun menggunakan embedding untuk user dan movie. Skor kecocokan dihitung dengan dot product embedding, ditambah bias, dan diaktivasi dengan sigmoid agar output berada di rentang [0, 1]. Model di-train menggunakan data training dan divalidasi pada data validasi."
   ]
  },
  {
   "cell_type": "code",
   "execution_count": 8,
   "id": "fb99944d",
   "metadata": {},
   "outputs": [
    {
     "name": "stdout",
     "output_type": "stream",
     "text": [
      "Epoch 1/10\n",
      "\u001b[1m12503/12503\u001b[0m \u001b[32m━━━━━━━━━━━━━━━━━━━━\u001b[0m\u001b[37m\u001b[0m \u001b[1m172s\u001b[0m 14ms/step - loss: 0.6312 - root_mean_squared_error: 0.2613 - val_loss: 0.5901 - val_root_mean_squared_error: 0.2221\n",
      "Epoch 2/10\n",
      "\u001b[1m12503/12503\u001b[0m \u001b[32m━━━━━━━━━━━━━━━━━━━━\u001b[0m\u001b[37m\u001b[0m \u001b[1m162s\u001b[0m 13ms/step - loss: 0.5847 - root_mean_squared_error: 0.2152 - val_loss: 0.5850 - val_root_mean_squared_error: 0.2158\n",
      "Epoch 3/10\n",
      "\u001b[1m12503/12503\u001b[0m \u001b[32m━━━━━━━━━━━━━━━━━━━━\u001b[0m\u001b[37m\u001b[0m \u001b[1m185s\u001b[0m 15ms/step - loss: 0.5750 - root_mean_squared_error: 0.2036 - val_loss: 0.5843 - val_root_mean_squared_error: 0.2130\n",
      "Epoch 4/10\n",
      "\u001b[1m12503/12503\u001b[0m \u001b[32m━━━━━━━━━━━━━━━━━━━━\u001b[0m\u001b[37m\u001b[0m \u001b[1m174s\u001b[0m 14ms/step - loss: 0.5662 - root_mean_squared_error: 0.1927 - val_loss: 0.5867 - val_root_mean_squared_error: 0.2129\n",
      "Epoch 5/10\n",
      "\u001b[1m12503/12503\u001b[0m \u001b[32m━━━━━━━━━━━━━━━━━━━━\u001b[0m\u001b[37m\u001b[0m \u001b[1m184s\u001b[0m 15ms/step - loss: 0.5603 - root_mean_squared_error: 0.1834 - val_loss: 0.5904 - val_root_mean_squared_error: 0.2141\n",
      "Epoch 6/10\n",
      "\u001b[1m12503/12503\u001b[0m \u001b[32m━━━━━━━━━━━━━━━━━━━━\u001b[0m\u001b[37m\u001b[0m \u001b[1m171s\u001b[0m 14ms/step - loss: 0.5559 - root_mean_squared_error: 0.1763 - val_loss: 0.5943 - val_root_mean_squared_error: 0.2159\n",
      "Epoch 7/10\n",
      "\u001b[1m12503/12503\u001b[0m \u001b[32m━━━━━━━━━━━━━━━━━━━━\u001b[0m\u001b[37m\u001b[0m \u001b[1m187s\u001b[0m 15ms/step - loss: 0.5535 - root_mean_squared_error: 0.1715 - val_loss: 0.5976 - val_root_mean_squared_error: 0.2175\n",
      "Epoch 8/10\n",
      "\u001b[1m12503/12503\u001b[0m \u001b[32m━━━━━━━━━━━━━━━━━━━━\u001b[0m\u001b[37m\u001b[0m \u001b[1m180s\u001b[0m 14ms/step - loss: 0.5512 - root_mean_squared_error: 0.1680 - val_loss: 0.6003 - val_root_mean_squared_error: 0.2189\n",
      "Epoch 9/10\n",
      "\u001b[1m12503/12503\u001b[0m \u001b[32m━━━━━━━━━━━━━━━━━━━━\u001b[0m\u001b[37m\u001b[0m \u001b[1m195s\u001b[0m 16ms/step - loss: 0.5504 - root_mean_squared_error: 0.1657 - val_loss: 0.6023 - val_root_mean_squared_error: 0.2199\n",
      "Epoch 10/10\n",
      "\u001b[1m12503/12503\u001b[0m \u001b[32m━━━━━━━━━━━━━━━━━━━━\u001b[0m\u001b[37m\u001b[0m \u001b[1m189s\u001b[0m 15ms/step - loss: 0.5491 - root_mean_squared_error: 0.1643 - val_loss: 0.6039 - val_root_mean_squared_error: 0.2208\n"
     ]
    }
   ],
   "source": [
    "\n",
    "# Siapkan data untuk training\n",
    "min_rating = ratings['Rating'].min()\n",
    "max_rating = ratings['Rating'].max()\n",
    "\n",
    "# x_train dan x_val: pasangan (UserID, MovieID)\n",
    "x_train = ratings_train[['UserID', 'MovieID']].values\n",
    "x_val = ratings_val[['UserID', 'MovieID']].values\n",
    "\n",
    "# y_train dan y_val: rating dinormalisasi ke [0, 1]\n",
    "y_train = ratings_train['Rating'].apply(lambda x: (x - min_rating) / (max_rating - min_rating)).values\n",
    "y_val = ratings_val['Rating'].apply(lambda x: (x - min_rating) / (max_rating - min_rating)).values\n",
    "\n",
    "num_users = ratings['UserID'].max() + 1  # pastikan ID mulai dari 0\n",
    "num_movies = ratings['MovieID'].max() + 1\n",
    "\n",
    "class RecommenderNet(tf.keras.Model):\n",
    "    def __init__(self, num_users, num_movies, embedding_size, **kwargs):\n",
    "        super(RecommenderNet, self).__init__(**kwargs)\n",
    "        self.user_embedding = layers.Embedding(\n",
    "            num_users,\n",
    "            embedding_size,\n",
    "            embeddings_initializer='he_normal',\n",
    "            embeddings_regularizer=keras.regularizers.l2(1e-6)\n",
    "        )\n",
    "        self.user_bias = layers.Embedding(num_users, 1)\n",
    "        self.movie_embedding = layers.Embedding(\n",
    "            num_movies,\n",
    "            embedding_size,\n",
    "            embeddings_initializer='he_normal',\n",
    "            embeddings_regularizer=keras.regularizers.l2(1e-6)\n",
    "        )\n",
    "        self.movie_bias = layers.Embedding(num_movies, 1)\n",
    "\n",
    "    def call(self, inputs):\n",
    "        user_vector = self.user_embedding(inputs[:, 0])\n",
    "        user_bias = self.user_bias(inputs[:, 0])\n",
    "        movie_vector = self.movie_embedding(inputs[:, 1])\n",
    "        movie_bias = self.movie_bias(inputs[:, 1])\n",
    "        dot_user_movie = tf.reduce_sum(user_vector * movie_vector, axis=1, keepdims=True)\n",
    "        x = dot_user_movie + user_bias + movie_bias\n",
    "        return tf.nn.sigmoid(x)\n",
    "\n",
    "embedding_size = 50\n",
    "model = RecommenderNet(num_users, num_movies, embedding_size)\n",
    "\n",
    "model.compile(\n",
    "    loss=tf.keras.losses.BinaryCrossentropy(),\n",
    "    optimizer=keras.optimizers.Adam(learning_rate=0.001),\n",
    "    metrics=[tf.keras.metrics.RootMeanSquaredError()]\n",
    ")\n",
    "\n",
    "history = model.fit(\n",
    "    x=x_train,\n",
    "    y=y_train,\n",
    "    batch_size=64,\n",
    "    epochs=10,\n",
    "    validation_data=(x_val, y_val)\n",
    ")"
   ]
  },
  {
   "cell_type": "markdown",
   "id": "79e2ba45",
   "metadata": {},
   "source": [
    "##  Visualisasi hasil training\n",
    "\n",
    "Grafik berikut menunjukkan perkembangan nilai Root Mean Squared Error (RMSE) pada data training dan validasi selama proses training model. Visualisasi ini membantu untuk memantau performa model, serta mendeteksi adanya overfitting atau underfitting pada proses pelatihan."
   ]
  },
  {
   "cell_type": "code",
   "execution_count": 9,
   "id": "688265df",
   "metadata": {},
   "outputs": [
    {
     "data": {
      "image/png": "[encoded data removed]",
      "text/plain": [
       "<Figure size 640x480 with 1 Axes>"
      ]
     },
     "metadata": {},
     "output_type": "display_data"
    },
    {
     "name": "stdout",
     "output_type": "stream",
     "text": [
      "RMSE Training dan Validasi per Epoch:\n",
      "========================================\n",
      "Epoch  1: Training RMSE = 0.2392 | Validation RMSE = 0.2221\n",
      "Epoch  2: Training RMSE = 0.2142 | Validation RMSE = 0.2158\n",
      "Epoch  3: Training RMSE = 0.2040 | Validation RMSE = 0.2130\n",
      "Epoch  4: Training RMSE = 0.1947 | Validation RMSE = 0.2129\n",
      "Epoch  5: Training RMSE = 0.1867 | Validation RMSE = 0.2141\n",
      "Epoch  6: Training RMSE = 0.1808 | Validation RMSE = 0.2159\n",
      "Epoch  7: Training RMSE = 0.1768 | Validation RMSE = 0.2175\n",
      "Epoch  8: Training RMSE = 0.1740 | Validation RMSE = 0.2189\n",
      "Epoch  9: Training RMSE = 0.1720 | Validation RMSE = 0.2199\n",
      "Epoch 10: Training RMSE = 0.1706 | Validation RMSE = 0.2208\n",
      "\n",
      "RMSE Terbaik:\n",
      "Training RMSE terbaik: 0.1706\n",
      "Validation RMSE terbaik: 0.2129\n"
     ]
    }
   ],
   "source": [
    "\n",
    "# visualisasi loss\n",
    "plt.plot(history.history['root_mean_squared_error'])\n",
    "plt.plot(history.history['val_root_mean_squared_error'])\n",
    "plt.title('model_metrics')\n",
    "plt.ylabel('root_mean_squared_error')\n",
    "plt.xlabel('epoch')\n",
    "plt.legend(['train', 'test'], loc='upper left')\n",
    "plt.show()\n",
    "\n",
    "# Visualisasi hasil training dalam bentuk teks\n",
    "train_rmse = history.history['root_mean_squared_error']\n",
    "val_rmse = history.history['val_root_mean_squared_error']\n",
    "\n",
    "print(\"RMSE Training dan Validasi per Epoch:\")\n",
    "print(\"=\"*40)\n",
    "for epoch, (tr, val) in enumerate(zip(train_rmse, val_rmse), 1):\n",
    "    print(f\"Epoch {epoch:2d}: Training RMSE = {tr:.4f} | Validation RMSE = {val:.4f}\")\n",
    "\n",
    "print(\"\\nRMSE Terbaik:\")\n",
    "print(f\"Training RMSE terbaik: {min(train_rmse):.4f}\")\n",
    "print(f\"Validation RMSE terbaik: {min(val_rmse):.4f}\")"
   ]
  },
  {
   "cell_type": "markdown",
   "id": "b787a20f",
   "metadata": {},
   "source": [
    "## Hasil Visualisasi Loss/RMSE\n",
    "\n",
    "Berdasarkan hasil RMSE pada data training dan validasi di setiap epoch, terlihat bahwa nilai RMSE pada data validasi cukup stabil dan tidak terlalu jauh dari nilai RMSE pada data training.  \n",
    "Hal ini menunjukkan bahwa model memiliki kemampuan generalisasi yang baik dan tidak mengalami overfitting secara signifikan.  \n",
    "Dengan demikian, model yang dibangun sudah cukup optimal untuk memberikan rekomendasi film kepada pengguna berdasarkan data yang tersedia."
   ]
  },
  {
   "cell_type": "markdown",
   "id": "714efb68",
   "metadata": {},
   "source": [
    "## Sistem Rekomendasi Film Berdasarkan Model\n",
    "\n",
    "Pada tahap ini, model yang telah dilatih digunakan untuk memberikan rekomendasi film kepada user. Sistem akan memprediksi skor kecocokan antara user dan seluruh film yang belum pernah dirating, lalu menampilkan film dengan skor prediksi tertinggi."
   ]
  },
  {
   "cell_type": "code",
   "execution_count": 10,
   "id": "8afbeb66",
   "metadata": {},
   "outputs": [
    {
     "name": "stdout",
     "output_type": "stream",
     "text": [
      "Rekomendasi untuk UserID: 4\n",
      "==============================\n",
      "Film dengan rating tertinggi dari user:\n",
      "------------------------------\n",
      "Hustler, The (1961) : 5\n",
      "Raiders of the Lost Ark (1981) : 5\n",
      "Rocky (1976) : 5\n",
      "Saving Private Ryan (1998) : 5\n",
      "Star Wars: Episode IV - A New Hope (1977) : 5\n",
      "------------------------------\n",
      "Top 10 rekomendasi film:\n",
      "------------------------------\n",
      "Shawshank Redemption, The (1994) : Drama\n",
      "Schindler's List (1993) : Drama|War\n",
      "Dr. Strangelove or: How I Learned to Stop Worrying and Love the Bomb (1963) : Sci-Fi|War\n",
      "Godfather, The (1972) : Action|Crime|Drama\n",
      "Casablanca (1942) : Drama|Romance|War\n",
      "Citizen Kane (1941) : Drama\n",
      "Monty Python and the Holy Grail (1974) : Comedy\n",
      "Seven Samurai (The Magnificent Seven) (Shichinin no samurai) (1954) : Action|Drama\n",
      "American Beauty (1999) : Comedy|Drama\n",
      "Sanjuro (1962) : Action|Adventure\n"
     ]
    }
   ],
   "source": [
    "\n",
    "def recommend_movies_for_user(user_id, model, movies, ratings, top_n=10):\n",
    "    # Cari semua MovieID yang sudah dirating user\n",
    "    movies_rated = ratings[ratings['UserID'] == user_id]['MovieID'].tolist()\n",
    "    # Cari MovieID yang belum pernah dirating user\n",
    "    movies_not_rated = movies[~movies['MovieID'].isin(movies_rated)]\n",
    "    \n",
    "    # Siapkan data prediksi: pasangan (user_id, movie_id)\n",
    "    user_movie_array = np.array([[user_id, movie_id] for movie_id in movies_not_rated['MovieID']])\n",
    "    \n",
    "    # Prediksi skor dengan model\n",
    "    ratings_pred = model.predict(user_movie_array, verbose=0).flatten()\n",
    "    \n",
    "    # Ambil indeks top_n skor tertinggi\n",
    "    top_indices = ratings_pred.argsort()[-top_n:][::-1]\n",
    "    recommended_movie_ids = movies_not_rated.iloc[top_indices]['MovieID'].values\n",
    "    \n",
    "    print(f\"Rekomendasi untuk UserID: {user_id}\")\n",
    "    print(\"=\"*30)\n",
    "    print(\"Film dengan rating tertinggi dari user:\")\n",
    "    print(\"-\"*30)\n",
    "    # Tampilkan 5 film dengan rating tertinggi yang pernah dirating user\n",
    "    top_user_movies = (\n",
    "        ratings[ratings['UserID'] == user_id]\n",
    "        .sort_values(by='Rating', ascending=False)\n",
    "        .head(5)\n",
    "        .merge(movies, on='MovieID')\n",
    "    )\n",
    "    for row in top_user_movies.itertuples():\n",
    "        print(f\"{row.Title} : {row.Rating}\")\n",
    "    \n",
    "    print(\"-\"*30)\n",
    "    print(f\"Top {top_n} rekomendasi film:\")\n",
    "    print(\"-\"*30)\n",
    "    recommended_movies = movies[movies['MovieID'].isin(recommended_movie_ids)]\n",
    "    for row in recommended_movies.itertuples():\n",
    "        print(f\"{row.Title} : {row.Genres}\")\n",
    "\n",
    "# penggunaan\n",
    "recommend_movies_for_user(user_id=4, model=model, movies=movies, ratings=ratings, top_n=10)"
   ]
  }
 ],
 "metadata": {
  "kernelspec": {
   "display_name": ".venv",
   "language": "python",
   "name": "python3"
  },
  "language_info": {
   "codemirror_mode": {
    "name": "ipython",
    "version": 3
   },
   "file_extension": ".py",
   "mimetype": "text/x-python",
   "name": "python",
   "nbconvert_exporter": "python",
   "pygments_lexer": "ipython3",
   "version": "3.9.12"
  }
 },
 "nbformat": 4,
 "nbformat_minor": 5
}
