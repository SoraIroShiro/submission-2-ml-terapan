{
 "cells": [
  {
   "cell_type": "markdown",
   "id": "f3303353",
   "metadata": {},
   "source": [
    "# Sistem Rekomendasi Film Menggunakan Collaborative Filtering\n",
    "\n",
    "## Project Overview\n",
    "Sistem rekomendasi film bertujuan membantu pengguna menemukan film yang sesuai dengan preferensi mereka secara otomatis. Dengan banyaknya pilihan film, sistem ini dapat meningkatkan pengalaman pengguna dan membantu platform streaming meningkatkan engagement.\n",
    "\n",
    "## Business Understanding\n",
    "Permasalahan: Pengguna sering kesulitan memilih film yang sesuai dengan selera mereka di antara ribuan pilihan.\n",
    "Solusi: Membangun sistem rekomendasi yang dapat memberikan saran film secara personal menggunakan pendekatan \n",
    "\n",
    "- **Collaborative Filtering**: Merekomendasikan film berdasarkan pola rating pengguna lain yang mirip."
   ]
  },
  {
   "cell_type": "markdown",
   "id": "378cd92f",
   "metadata": {},
   "source": [
    "### Contoh penggunaan Collaborative Filtering (User-Based) dalam dataset ini\n",
    "\n",
    "Pada pendekatan ini, sistem merekomendasikan film berdasarkan pola rating pengguna lain yang mirip. Model yang digunakan adalah user-based collaborative filtering dengan cosine similarity. Data rating dibagi menjadi data train dan validasi untuk menghindari data leakage dan memungkinkan evaluasi model."
   ]
  },
  {
   "cell_type": "code",
   "execution_count": null,
   "id": "57deaedf",
   "metadata": {},
   "outputs": [],
   "source": [
    "# Collaborative Filtering: User-Based\n",
    "\n",
    "from sklearn.metrics.pairwise import cosine_similarity\n",
    "import numpy as np\n",
    "from sklearn.model_selection import train_test_split\n",
    "\n",
    "# Membagi data ratings menjadi 80% train dan 20% validasi\n",
    "ratings_train, ratings_val = train_test_split(\n",
    "    ratings, test_size=0.2, random_state=42, shuffle=True\n",
    ")\n",
    "\n",
    "print(\"Jumlah data train:\", ratings_train.shape[0])\n",
    "print(\"Jumlah data validasi:\", ratings_val.shape[0])\n",
    "\n",
    "# Gunakan ratings_train untuk membangun user-item matrix\n",
    "user_item_matrix = ratings_train.pivot_table(index='UserID', columns='MovieID', values='Rating')\n",
    "user_item_matrix_filled = user_item_matrix.fillna(0)\n",
    "\n",
    "\n",
    "# Hitung similarity antar user\n",
    "user_sim = cosine_similarity(user_item_matrix_filled)\n",
    "user_sim_df = pd.DataFrame(user_sim, index=user_item_matrix.index, columns=user_item_matrix.index)\n",
    "\n",
    "def recommend_collaborative(user_id, top_n=5):\n",
    "    if user_id not in user_item_matrix.index:\n",
    "        print(\"User tidak ditemukan.\")\n",
    "        return\n",
    "    # Cari user paling mirip (selain dirinya sendiri)\n",
    "    sim_scores = user_sim_df[user_id].drop(user_id).sort_values(ascending=False)\n",
    "    top_user = sim_scores.index[0]\n",
    "    # Cari film yang sudah dirating user mirip, tapi belum dirating user target\n",
    "    user_movies = set(user_item_matrix.loc[user_id].dropna().index)\n",
    "    similar_user_movies = set(user_item_matrix.loc[top_user].dropna().index)\n",
    "    recommend_movies = list(similar_user_movies - user_movies)\n",
    "    # Ambil top_n film dengan rating tertinggi dari user mirip\n",
    "    top_movies = user_item_matrix.loc[top_user, recommend_movies].sort_values(ascending=False).head(top_n)\n",
    "    return movies[movies['MovieID'].isin(top_movies.index)][['Title', 'Genres']]\n",
    "\n",
    "# Contoh rekomendasi untuk user dengan UserID=1\n",
    "print(\"Rekomendasi film untuk UserID=1 (Collaborative Filtering):\")\n",
    "display(recommend_collaborative(2))"
   ]
  },
  {
   "cell_type": "markdown",
   "id": "190123f2",
   "metadata": {},
   "source": [
    "### Content-Based Filtering dengan TF-IDF\n",
    "\n",
    "Pada pendekatan ini, sistem merekomendasikan film berdasarkan kemiripan konten, yaitu genre film. Genre diubah menjadi representasi numerik menggunakan TF-IDF (Term Frequency-Inverse Document Frequency), lalu dihitung kemiripan antar film menggunakan cosine similarity. Rekomendasi diberikan berdasarkan film yang paling mirip dengan film yang dipilih pengguna."
   ]
  },
  {
   "cell_type": "code",
   "execution_count": null,
   "id": "80eb5cfb",
   "metadata": {},
   "outputs": [],
   "source": [
    "from sklearn.feature_extraction.text import TfidfVectorizer\n",
    "from sklearn.metrics.pairwise import cosine_similarity\n",
    "\n",
    "# Membuat fitur genre sebagai string (tanpa tanda '|')\n",
    "movies['Genres_str'] = movies['Genres'].apply(lambda x: x.replace('|', ' '))\n",
    "\n",
    "# Inisialisasi dan fit TF-IDF Vectorizer pada genre\n",
    "tfidf = TfidfVectorizer()\n",
    "tfidf_matrix = tfidf.fit_transform(movies['Genres_str'])\n",
    "\n",
    "# Menghitung kemiripan antar film berdasarkan genre (TF-IDF)\n",
    "cosine_sim_tfidf = cosine_similarity(tfidf_matrix)\n",
    "\n",
    "# Fungsi rekomendasi film berdasarkan judul (TF-IDF)\n",
    "def recommend_content_based_tfidf(title, top_n=5):\n",
    "    idx = movies[movies['Title'].str.lower() == title.lower()].index\n",
    "    if len(idx) == 0:\n",
    "        print(\"Film tidak ditemukan.\")\n",
    "        return\n",
    "    idx = idx[0]\n",
    "    sim_scores = list(enumerate(cosine_sim_tfidf[idx]))\n",
    "    sim_scores = sorted(sim_scores, key=lambda x: x[1], reverse=True)\n",
    "    sim_scores = sim_scores[1:top_n+1]\n",
    "    film_idx = [i[0] for i in sim_scores]\n",
    "    return movies.iloc[film_idx][['Title', 'Genres']]\n",
    "\n",
    "# Contoh rekomendasi\n",
    "judul_film = 'titanic (1997)'\n",
    "print(f\"Rekomendasi film mirip dengan '{judul_film}':\")\n",
    "display(recommend_content_based_tfidf(judul_film))"
   ]
  }
 ],
 "metadata": {
  "kernelspec": {
   "display_name": ".venv",
   "language": "python",
   "name": "python3"
  },
  "language_info": {
   "name": "python",
   "version": "3.9.12"
  }
 },
 "nbformat": 4,
 "nbformat_minor": 5
}
